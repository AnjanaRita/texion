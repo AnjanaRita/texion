{
 "cells": [
  {
   "cell_type": "code",
   "execution_count": 1,
   "metadata": {},
   "outputs": [],
   "source": [
    "from texion.models.sklearn.base_sklearn import BaseSklearn\n",
    "from texion.models.torch.base_torch import BaseTorch\n",
    "from texion.models.core import Texion\n",
    "\n",
    "from texion.datasets.download import fetch_dataset\n",
    "import texion.utils\n",
    "import texion.embeddings\n",
    "import texion.encoders\n",
    "import texion.metrics"
   ]
  },
  {
   "cell_type": "code",
   "execution_count": 2,
   "metadata": {},
   "outputs": [
    {
     "name": "stdout",
     "output_type": "stream",
     "text": [
      "classification model configured to use RandomForestClassifier algorithm with parameters:\n",
      "{'max_features': 30, 'random_state': 23, 'n_jobs': -1, 'n_estimators': 100}\n"
     ]
    }
   ],
   "source": [
    "classifier_parameters = dict(max_features=30, random_state=23, n_jobs=-1, n_estimators=100)\n",
    "\n",
    "sklearn_classifier = BaseSklearn(\"RandomForestClassifier\", params=classifier_parameters)"
   ]
  },
  {
   "cell_type": "code",
   "execution_count": 3,
   "metadata": {},
   "outputs": [
    {
     "ename": "TypeError",
     "evalue": "__new__() missing 1 required positional argument: 'name'",
     "output_type": "error",
     "traceback": [
      "\u001b[0;31m---------------------------------------------------------------------------\u001b[0m",
      "\u001b[0;31mTypeError\u001b[0m                                 Traceback (most recent call last)",
      "\u001b[0;32m<ipython-input-3-5e3fa422e2e5>\u001b[0m in \u001b[0;36m<module>\u001b[0;34m()\u001b[0m\n\u001b[0;32m----> 1\u001b[0;31m \u001b[0mBaseSklearn\u001b[0m\u001b[0;34m(\u001b[0m\u001b[0;34m)\u001b[0m\u001b[0;34m\u001b[0m\u001b[0m\n\u001b[0m",
      "\u001b[0;31mTypeError\u001b[0m: __new__() missing 1 required positional argument: 'name'"
     ]
    }
   ],
   "source": [
    "BaseSklearn()"
   ]
  },
  {
   "cell_type": "code",
   "execution_count": 5,
   "metadata": {},
   "outputs": [
    {
     "name": "stdout",
     "output_type": "stream",
     "text": [
      "classification model configured to use SVC algorithm.\n",
      "note: running with default configuration\n"
     ]
    },
    {
     "data": {
      "text/plain": [
       "SVC(C=1.0, cache_size=200, class_weight=None, coef0=0.0,\n",
       "  decision_function_shape='ovr', degree=3, gamma='auto', kernel='rbf',\n",
       "  max_iter=-1, probability=False, random_state=None, shrinking=True,\n",
       "  tol=0.001, verbose=False)"
      ]
     },
     "execution_count": 5,
     "metadata": {},
     "output_type": "execute_result"
    }
   ],
   "source": [
    "BaseSklearn(\"SVC\")"
   ]
  },
  {
   "cell_type": "code",
   "execution_count": 6,
   "metadata": {},
   "outputs": [
    {
     "ename": "NameError",
     "evalue": "please select one of these as the name: ['RandomForestClassifier', 'MultinomialNB', 'GaussianNB', 'SVC', 'MLPClassifier', 'AdaBoostClassifier', 'QuadraticDiscriminantAnalysis', 'GaussianProcessClassifier', 'ExtraTreesClassifier', 'GradientBoostingClassifier', 'VotingClassifier']",
     "output_type": "error",
     "traceback": [
      "\u001b[0;31m---------------------------------------------------------------------------\u001b[0m",
      "\u001b[0;31mNameError\u001b[0m                                 Traceback (most recent call last)",
      "\u001b[0;32m<ipython-input-6-b0b0f4028e50>\u001b[0m in \u001b[0;36m<module>\u001b[0;34m()\u001b[0m\n\u001b[0;32m----> 1\u001b[0;31m \u001b[0mBaseSklearn\u001b[0m\u001b[0;34m(\u001b[0m\u001b[0;34m\"WrongName\"\u001b[0m\u001b[0;34m)\u001b[0m\u001b[0;34m\u001b[0m\u001b[0m\n\u001b[0m",
      "\u001b[0;32m~/projects/python_projects/texion/texion/models/sklearn/base_sklearn.py\u001b[0m in \u001b[0;36m__new__\u001b[0;34m(cls, name, params)\u001b[0m\n\u001b[1;32m     37\u001b[0m         \u001b[0;32mif\u001b[0m \u001b[0mname\u001b[0m \u001b[0;32mnot\u001b[0m \u001b[0;32min\u001b[0m \u001b[0mOPTIONS\u001b[0m\u001b[0;34m.\u001b[0m\u001b[0mkeys\u001b[0m\u001b[0;34m(\u001b[0m\u001b[0;34m)\u001b[0m\u001b[0;34m:\u001b[0m\u001b[0;34m\u001b[0m\u001b[0m\n\u001b[1;32m     38\u001b[0m             raise NameError(\n\u001b[0;32m---> 39\u001b[0;31m                 f\"please select one of these as the name: {[x for x in OPTIONS.keys()]}\")\n\u001b[0m\u001b[1;32m     40\u001b[0m \u001b[0;34m\u001b[0m\u001b[0m\n\u001b[1;32m     41\u001b[0m         \u001b[0;32mif\u001b[0m \u001b[0mparams\u001b[0m\u001b[0;34m:\u001b[0m\u001b[0;34m\u001b[0m\u001b[0m\n",
      "\u001b[0;31mNameError\u001b[0m: please select one of these as the name: ['RandomForestClassifier', 'MultinomialNB', 'GaussianNB', 'SVC', 'MLPClassifier', 'AdaBoostClassifier', 'QuadraticDiscriminantAnalysis', 'GaussianProcessClassifier', 'ExtraTreesClassifier', 'GradientBoostingClassifier', 'VotingClassifier']"
     ]
    }
   ],
   "source": [
    "BaseSklearn(\"WrongName\")"
   ]
  },
  {
   "cell_type": "code",
   "execution_count": 7,
   "metadata": {},
   "outputs": [
    {
     "ename": "NameError",
     "evalue": "please select one of these as the name: ['YoonKimCnn', 'MultiLayerCNN', 'MultiperspectiveCNN', 'InceptionCNN', 'BILSTM', 'StackLSTM', 'SelfAttentionLSTM', 'QuantumAttentionLSTM', 'FastText', 'HAN', 'RNN', 'RCNN', 'CharCnn', 'StackedRnn', 'AttentionRnn', 'CLSTM', 'Transformer', 'ConS2S', 'Capsule', 'QuantumCNN']",
     "output_type": "error",
     "traceback": [
      "\u001b[0;31m---------------------------------------------------------------------------\u001b[0m",
      "\u001b[0;31mNameError\u001b[0m                                 Traceback (most recent call last)",
      "\u001b[0;32m<ipython-input-7-106b7b8826f2>\u001b[0m in \u001b[0;36m<module>\u001b[0;34m()\u001b[0m\n\u001b[0;32m----> 1\u001b[0;31m \u001b[0mBaseTorch\u001b[0m\u001b[0;34m(\u001b[0m\u001b[0mname\u001b[0m\u001b[0;34m=\u001b[0m\u001b[0;34m\"YoonKim\"\u001b[0m\u001b[0;34m)\u001b[0m\u001b[0;34m\u001b[0m\u001b[0m\n\u001b[0m",
      "\u001b[0;32m~/projects/python_projects/texion/texion/models/torch/base_torch.py\u001b[0m in \u001b[0;36m__new__\u001b[0;34m(cls, name, params)\u001b[0m\n\u001b[1;32m     36\u001b[0m         \u001b[0;32mif\u001b[0m \u001b[0mname\u001b[0m \u001b[0;32mnot\u001b[0m \u001b[0;32min\u001b[0m \u001b[0mOPTIONS\u001b[0m\u001b[0;34m.\u001b[0m\u001b[0mkeys\u001b[0m\u001b[0;34m(\u001b[0m\u001b[0;34m)\u001b[0m\u001b[0;34m:\u001b[0m\u001b[0;34m\u001b[0m\u001b[0m\n\u001b[1;32m     37\u001b[0m             raise NameError(\n\u001b[0;32m---> 38\u001b[0;31m                 f\"please select one of these as the name: {[x for x in OPTIONS.keys()]}\")\n\u001b[0m\u001b[1;32m     39\u001b[0m \u001b[0;34m\u001b[0m\u001b[0m\n\u001b[1;32m     40\u001b[0m         \u001b[0;32mif\u001b[0m \u001b[0mparams\u001b[0m\u001b[0;34m:\u001b[0m\u001b[0;34m\u001b[0m\u001b[0m\n",
      "\u001b[0;31mNameError\u001b[0m: please select one of these as the name: ['YoonKimCnn', 'MultiLayerCNN', 'MultiperspectiveCNN', 'InceptionCNN', 'BILSTM', 'StackLSTM', 'SelfAttentionLSTM', 'QuantumAttentionLSTM', 'FastText', 'HAN', 'RNN', 'RCNN', 'CharCnn', 'StackedRnn', 'AttentionRnn', 'CLSTM', 'Transformer', 'ConS2S', 'Capsule', 'QuantumCNN']"
     ]
    }
   ],
   "source": [
    "BaseTorch(name=\"YoonKim\")"
   ]
  },
  {
   "cell_type": "code",
   "execution_count": 8,
   "metadata": {},
   "outputs": [
    {
     "name": "stdout",
     "output_type": "stream",
     "text": [
      "configured to run with Torch Backend\n"
     ]
    },
    {
     "ename": "TypeError",
     "evalue": "__init__() missing 4 required positional arguments: 'vocabulary_size', 'embedding_size', 'channel_out', and 'filter_heights'",
     "output_type": "error",
     "traceback": [
      "\u001b[0;31m---------------------------------------------------------------------------\u001b[0m",
      "\u001b[0;31mTypeError\u001b[0m                                 Traceback (most recent call last)",
      "\u001b[0;32m<ipython-input-8-5a5aa75e1388>\u001b[0m in \u001b[0;36m<module>\u001b[0;34m()\u001b[0m\n\u001b[0;32m----> 1\u001b[0;31m \u001b[0mTexion\u001b[0m\u001b[0;34m(\u001b[0m\u001b[0mmode\u001b[0m\u001b[0;34m=\u001b[0m\u001b[0;34m\"Torch\"\u001b[0m\u001b[0;34m,\u001b[0m \u001b[0mname\u001b[0m\u001b[0;34m=\u001b[0m\u001b[0;34m\"YoonKimCnn\"\u001b[0m\u001b[0;34m)\u001b[0m\u001b[0;34m\u001b[0m\u001b[0m\n\u001b[0m",
      "\u001b[0;32m~/projects/python_projects/texion/texion/models/core.py\u001b[0m in \u001b[0;36m__new__\u001b[0;34m(cls, mode, name, params)\u001b[0m\n\u001b[1;32m     31\u001b[0m         \u001b[0;32mif\u001b[0m \u001b[0mmode\u001b[0m \u001b[0;34m==\u001b[0m \u001b[0;34m\"Torch\"\u001b[0m\u001b[0;34m:\u001b[0m\u001b[0;34m\u001b[0m\u001b[0m\n\u001b[1;32m     32\u001b[0m             \u001b[0mprint\u001b[0m\u001b[0;34m(\u001b[0m\u001b[0;34mf\"configured to run with {mode} Backend\"\u001b[0m\u001b[0;34m)\u001b[0m\u001b[0;34m\u001b[0m\u001b[0m\n\u001b[0;32m---> 33\u001b[0;31m             \u001b[0;32mreturn\u001b[0m \u001b[0mBaseTorch\u001b[0m\u001b[0;34m(\u001b[0m\u001b[0mname\u001b[0m\u001b[0;34m,\u001b[0m \u001b[0mparams\u001b[0m\u001b[0;34m)\u001b[0m\u001b[0;34m\u001b[0m\u001b[0m\n\u001b[0m",
      "\u001b[0;32m~/projects/python_projects/texion/texion/models/torch/base_torch.py\u001b[0m in \u001b[0;36m__new__\u001b[0;34m(cls, name, params)\u001b[0m\n\u001b[1;32m     44\u001b[0m \u001b[0;34m\u001b[0m\u001b[0m\n\u001b[1;32m     45\u001b[0m         \u001b[0;32melse\u001b[0m\u001b[0;34m:\u001b[0m\u001b[0;34m\u001b[0m\u001b[0m\n\u001b[0;32m---> 46\u001b[0;31m             \u001b[0mclf\u001b[0m \u001b[0;34m=\u001b[0m \u001b[0mOPTIONS\u001b[0m\u001b[0;34m.\u001b[0m\u001b[0mget\u001b[0m\u001b[0;34m(\u001b[0m\u001b[0mname\u001b[0m\u001b[0;34m)\u001b[0m\u001b[0;34m(\u001b[0m\u001b[0;34m)\u001b[0m\u001b[0;34m\u001b[0m\u001b[0m\n\u001b[0m\u001b[1;32m     47\u001b[0m             print(\n\u001b[1;32m     48\u001b[0m                 f\"\"\"classification model configured to use {clf.__class__.__name__} algorithm.\\nnote: running with default configuration\"\"\")\n",
      "\u001b[0;31mTypeError\u001b[0m: __init__() missing 4 required positional arguments: 'vocabulary_size', 'embedding_size', 'channel_out', and 'filter_heights'"
     ]
    }
   ],
   "source": [
    "Texion(mode=\"Torch\", name=\"YoonKimCnn\")"
   ]
  },
  {
   "cell_type": "code",
   "execution_count": 9,
   "metadata": {},
   "outputs": [
    {
     "ename": "TypeError",
     "evalue": "__new__() missing 1 required positional argument: 'name'",
     "output_type": "error",
     "traceback": [
      "\u001b[0;31m---------------------------------------------------------------------------\u001b[0m",
      "\u001b[0;31mTypeError\u001b[0m                                 Traceback (most recent call last)",
      "\u001b[0;32m<ipython-input-9-6cd14ace816e>\u001b[0m in \u001b[0;36m<module>\u001b[0;34m()\u001b[0m\n\u001b[0;32m----> 1\u001b[0;31m \u001b[0mTexion\u001b[0m\u001b[0;34m(\u001b[0m\u001b[0;34m\"Torch\"\u001b[0m\u001b[0;34m)\u001b[0m\u001b[0;34m\u001b[0m\u001b[0m\n\u001b[0m",
      "\u001b[0;31mTypeError\u001b[0m: __new__() missing 1 required positional argument: 'name'"
     ]
    }
   ],
   "source": [
    "Texion(\"Torch\")"
   ]
  },
  {
   "cell_type": "code",
   "execution_count": 10,
   "metadata": {},
   "outputs": [
    {
     "name": "stdout",
     "output_type": "stream",
     "text": [
      "configured to run with Sklearn Backend\n"
     ]
    },
    {
     "ename": "NameError",
     "evalue": "please select one of these as the name: ['RandomForestClassifier', 'MultinomialNB', 'GaussianNB', 'SVC', 'MLPClassifier', 'AdaBoostClassifier', 'QuadraticDiscriminantAnalysis', 'GaussianProcessClassifier', 'ExtraTreesClassifier', 'GradientBoostingClassifier', 'VotingClassifier']",
     "output_type": "error",
     "traceback": [
      "\u001b[0;31m---------------------------------------------------------------------------\u001b[0m",
      "\u001b[0;31mNameError\u001b[0m                                 Traceback (most recent call last)",
      "\u001b[0;32m<ipython-input-10-544dbdc151eb>\u001b[0m in \u001b[0;36m<module>\u001b[0;34m()\u001b[0m\n\u001b[0;32m----> 1\u001b[0;31m \u001b[0mTexion\u001b[0m\u001b[0;34m(\u001b[0m\u001b[0;34m\"Sklearn\"\u001b[0m\u001b[0;34m,\u001b[0m \u001b[0;34m\"WrongName\"\u001b[0m\u001b[0;34m)\u001b[0m\u001b[0;34m\u001b[0m\u001b[0m\n\u001b[0m",
      "\u001b[0;32m~/projects/python_projects/texion/texion/models/core.py\u001b[0m in \u001b[0;36m__new__\u001b[0;34m(cls, mode, name, params)\u001b[0m\n\u001b[1;32m     28\u001b[0m         \u001b[0;32mif\u001b[0m \u001b[0mmode\u001b[0m \u001b[0;34m==\u001b[0m \u001b[0;34m\"Sklearn\"\u001b[0m\u001b[0;34m:\u001b[0m\u001b[0;34m\u001b[0m\u001b[0m\n\u001b[1;32m     29\u001b[0m             \u001b[0mprint\u001b[0m\u001b[0;34m(\u001b[0m\u001b[0;34mf\"configured to run with {mode} Backend\"\u001b[0m\u001b[0;34m)\u001b[0m\u001b[0;34m\u001b[0m\u001b[0m\n\u001b[0;32m---> 30\u001b[0;31m             \u001b[0;32mreturn\u001b[0m \u001b[0mBaseSklearn\u001b[0m\u001b[0;34m(\u001b[0m\u001b[0mname\u001b[0m\u001b[0;34m,\u001b[0m \u001b[0mparams\u001b[0m\u001b[0;34m)\u001b[0m\u001b[0;34m\u001b[0m\u001b[0m\n\u001b[0m\u001b[1;32m     31\u001b[0m         \u001b[0;32mif\u001b[0m \u001b[0mmode\u001b[0m \u001b[0;34m==\u001b[0m \u001b[0;34m\"Torch\"\u001b[0m\u001b[0;34m:\u001b[0m\u001b[0;34m\u001b[0m\u001b[0m\n\u001b[1;32m     32\u001b[0m             \u001b[0mprint\u001b[0m\u001b[0;34m(\u001b[0m\u001b[0;34mf\"configured to run with {mode} Backend\"\u001b[0m\u001b[0;34m)\u001b[0m\u001b[0;34m\u001b[0m\u001b[0m\n",
      "\u001b[0;32m~/projects/python_projects/texion/texion/models/sklearn/base_sklearn.py\u001b[0m in \u001b[0;36m__new__\u001b[0;34m(cls, name, params)\u001b[0m\n\u001b[1;32m     37\u001b[0m         \u001b[0;32mif\u001b[0m \u001b[0mname\u001b[0m \u001b[0;32mnot\u001b[0m \u001b[0;32min\u001b[0m \u001b[0mOPTIONS\u001b[0m\u001b[0;34m.\u001b[0m\u001b[0mkeys\u001b[0m\u001b[0;34m(\u001b[0m\u001b[0;34m)\u001b[0m\u001b[0;34m:\u001b[0m\u001b[0;34m\u001b[0m\u001b[0m\n\u001b[1;32m     38\u001b[0m             raise NameError(\n\u001b[0;32m---> 39\u001b[0;31m                 f\"please select one of these as the name: {[x for x in OPTIONS.keys()]}\")\n\u001b[0m\u001b[1;32m     40\u001b[0m \u001b[0;34m\u001b[0m\u001b[0m\n\u001b[1;32m     41\u001b[0m         \u001b[0;32mif\u001b[0m \u001b[0mparams\u001b[0m\u001b[0;34m:\u001b[0m\u001b[0;34m\u001b[0m\u001b[0m\n",
      "\u001b[0;31mNameError\u001b[0m: please select one of these as the name: ['RandomForestClassifier', 'MultinomialNB', 'GaussianNB', 'SVC', 'MLPClassifier', 'AdaBoostClassifier', 'QuadraticDiscriminantAnalysis', 'GaussianProcessClassifier', 'ExtraTreesClassifier', 'GradientBoostingClassifier', 'VotingClassifier']"
     ]
    }
   ],
   "source": [
    "Texion(\"Sklearn\", \"WrongName\")"
   ]
  },
  {
   "cell_type": "code",
   "execution_count": 11,
   "metadata": {},
   "outputs": [
    {
     "name": "stdout",
     "output_type": "stream",
     "text": [
      "configured to run with Sklearn Backend\n",
      "classification model configured to use RandomForestClassifier algorithm.\n",
      "note: running with default configuration\n"
     ]
    }
   ],
   "source": [
    "rf = Texion(\"Sklearn\", \"RandomForestClassifier\")"
   ]
  },
  {
   "cell_type": "code",
   "execution_count": 12,
   "metadata": {},
   "outputs": [
    {
     "data": {
      "text/plain": [
       "RandomForestClassifier(bootstrap=True, class_weight=None, criterion='gini',\n",
       "            max_depth=None, max_features='auto', max_leaf_nodes=None,\n",
       "            min_impurity_decrease=0.0, min_impurity_split=None,\n",
       "            min_samples_leaf=1, min_samples_split=2,\n",
       "            min_weight_fraction_leaf=0.0, n_estimators=10, n_jobs=1,\n",
       "            oob_score=False, random_state=None, verbose=0,\n",
       "            warm_start=False)"
      ]
     },
     "execution_count": 12,
     "metadata": {},
     "output_type": "execute_result"
    }
   ],
   "source": [
    "rf"
   ]
  },
  {
   "cell_type": "code",
   "execution_count": null,
   "metadata": {},
   "outputs": [],
   "source": [
    "import spacy\n",
    "import textacy"
   ]
  },
  {
   "cell_type": "code",
   "execution_count": 13,
   "metadata": {},
   "outputs": [],
   "source": [
    "from texion.utils.preprocess import preprocess, preprocess_text"
   ]
  },
  {
   "cell_type": "code",
   "execution_count": 14,
   "metadata": {},
   "outputs": [],
   "source": [
    "from texion.utils.general import train_test_split_data"
   ]
  },
  {
   "cell_type": "code",
   "execution_count": 15,
   "metadata": {},
   "outputs": [
    {
     "name": "stdout",
     "output_type": "stream",
     "text": [
      "configured to run with Torch Backend\n"
     ]
    },
    {
     "ename": "NameError",
     "evalue": "please select one of these as the name: ['YoonKimCnn', 'MultiLayerCNN', 'MultiperspectiveCNN', 'InceptionCNN', 'BILSTM', 'StackLSTM', 'SelfAttentionLSTM', 'QuantumAttentionLSTM', 'FastText', 'HAN', 'RNN', 'RCNN', 'CharCnn', 'StackedRnn', 'AttentionRnn', 'CLSTM', 'Transformer', 'ConS2S', 'Capsule', 'QuantumCNN']",
     "output_type": "error",
     "traceback": [
      "\u001b[0;31m---------------------------------------------------------------------------\u001b[0m",
      "\u001b[0;31mNameError\u001b[0m                                 Traceback (most recent call last)",
      "\u001b[0;32m<ipython-input-15-55ba4e120c4c>\u001b[0m in \u001b[0;36m<module>\u001b[0;34m()\u001b[0m\n\u001b[0;32m----> 1\u001b[0;31m \u001b[0mTexion\u001b[0m\u001b[0;34m(\u001b[0m\u001b[0mmode\u001b[0m\u001b[0;34m=\u001b[0m\u001b[0;34m\"Torch\"\u001b[0m\u001b[0;34m,\u001b[0m \u001b[0mname\u001b[0m\u001b[0;34m=\u001b[0m\u001b[0;34m\"yoonkimCnn\"\u001b[0m\u001b[0;34m)\u001b[0m\u001b[0;34m\u001b[0m\u001b[0m\n\u001b[0m",
      "\u001b[0;32m~/projects/python_projects/texion/texion/models/core.py\u001b[0m in \u001b[0;36m__new__\u001b[0;34m(cls, mode, name, params)\u001b[0m\n\u001b[1;32m     31\u001b[0m         \u001b[0;32mif\u001b[0m \u001b[0mmode\u001b[0m \u001b[0;34m==\u001b[0m \u001b[0;34m\"Torch\"\u001b[0m\u001b[0;34m:\u001b[0m\u001b[0;34m\u001b[0m\u001b[0m\n\u001b[1;32m     32\u001b[0m             \u001b[0mprint\u001b[0m\u001b[0;34m(\u001b[0m\u001b[0;34mf\"configured to run with {mode} Backend\"\u001b[0m\u001b[0;34m)\u001b[0m\u001b[0;34m\u001b[0m\u001b[0m\n\u001b[0;32m---> 33\u001b[0;31m             \u001b[0;32mreturn\u001b[0m \u001b[0mBaseTorch\u001b[0m\u001b[0;34m(\u001b[0m\u001b[0mname\u001b[0m\u001b[0;34m,\u001b[0m \u001b[0mparams\u001b[0m\u001b[0;34m)\u001b[0m\u001b[0;34m\u001b[0m\u001b[0m\n\u001b[0m",
      "\u001b[0;32m~/projects/python_projects/texion/texion/models/torch/base_torch.py\u001b[0m in \u001b[0;36m__new__\u001b[0;34m(cls, name, params)\u001b[0m\n\u001b[1;32m     36\u001b[0m         \u001b[0;32mif\u001b[0m \u001b[0mname\u001b[0m \u001b[0;32mnot\u001b[0m \u001b[0;32min\u001b[0m \u001b[0mOPTIONS\u001b[0m\u001b[0;34m.\u001b[0m\u001b[0mkeys\u001b[0m\u001b[0;34m(\u001b[0m\u001b[0;34m)\u001b[0m\u001b[0;34m:\u001b[0m\u001b[0;34m\u001b[0m\u001b[0m\n\u001b[1;32m     37\u001b[0m             raise NameError(\n\u001b[0;32m---> 38\u001b[0;31m                 f\"please select one of these as the name: {[x for x in OPTIONS.keys()]}\")\n\u001b[0m\u001b[1;32m     39\u001b[0m \u001b[0;34m\u001b[0m\u001b[0m\n\u001b[1;32m     40\u001b[0m         \u001b[0;32mif\u001b[0m \u001b[0mparams\u001b[0m\u001b[0;34m:\u001b[0m\u001b[0;34m\u001b[0m\u001b[0m\n",
      "\u001b[0;31mNameError\u001b[0m: please select one of these as the name: ['YoonKimCnn', 'MultiLayerCNN', 'MultiperspectiveCNN', 'InceptionCNN', 'BILSTM', 'StackLSTM', 'SelfAttentionLSTM', 'QuantumAttentionLSTM', 'FastText', 'HAN', 'RNN', 'RCNN', 'CharCnn', 'StackedRnn', 'AttentionRnn', 'CLSTM', 'Transformer', 'ConS2S', 'Capsule', 'QuantumCNN']"
     ]
    }
   ],
   "source": [
    "Texion(mode=\"Torch\", name=\"yoonkimCnn\")"
   ]
  },
  {
   "cell_type": "code",
   "execution_count": 16,
   "metadata": {},
   "outputs": [
    {
     "name": "stdout",
     "output_type": "stream",
     "text": [
      "configured to run with Torch Backend\n",
      "classification model configured to use YoonKimCnn algorithm with parameters:\n",
      "{'vocabulary_size': 10000, 'embedding_size': 300, 'channel_out': 4, 'filter_heights': (3, 4, 5)}\n"
     ]
    }
   ],
   "source": [
    "yoonkim_params = {\"vocabulary_size\": 10000, \n",
    "          \"embedding_size\": 300, \n",
    "          \"channel_out\": 4, \n",
    "          \"filter_heights\":(3, 4, 5)}\n",
    "\n",
    "ykcnn = Texion(mode=\"Torch\", name=\"YoonKimCnn\", params=yoonkim_params)"
   ]
  },
  {
   "cell_type": "code",
   "execution_count": 17,
   "metadata": {},
   "outputs": [
    {
     "name": "stdout",
     "output_type": "stream",
     "text": [
      "configured to run with Sklearn Backend\n",
      "classification model configured to use RandomForestClassifier algorithm.\n",
      "note: running with default configuration\n"
     ]
    },
    {
     "data": {
      "text/plain": [
       "RandomForestClassifier(bootstrap=True, class_weight=None, criterion='gini',\n",
       "            max_depth=None, max_features='auto', max_leaf_nodes=None,\n",
       "            min_impurity_decrease=0.0, min_impurity_split=None,\n",
       "            min_samples_leaf=1, min_samples_split=2,\n",
       "            min_weight_fraction_leaf=0.0, n_estimators=10, n_jobs=1,\n",
       "            oob_score=False, random_state=None, verbose=0,\n",
       "            warm_start=False)"
      ]
     },
     "execution_count": 17,
     "metadata": {},
     "output_type": "execute_result"
    }
   ],
   "source": [
    "Texion(mode=\"Sklearn\", name=\"RandomForestClassifier\")"
   ]
  },
  {
   "cell_type": "code",
   "execution_count": 18,
   "metadata": {},
   "outputs": [],
   "source": [
    "ft_params = { \"vocab_size\": 2000, \n",
    "            \"embedding_dim\": 512, \n",
    "             \"label_size\": 4}"
   ]
  },
  {
   "cell_type": "code",
   "execution_count": 19,
   "metadata": {},
   "outputs": [
    {
     "name": "stdout",
     "output_type": "stream",
     "text": [
      "configured to run with Torch Backend\n",
      "classification model configured to use FastText algorithm with parameters:\n",
      "{'vocab_size': 2000, 'embedding_dim': 512, 'label_size': 4}\n"
     ]
    }
   ],
   "source": [
    "ftclf = Texion(\"Torch\", \"FastText\", params = ft_params)"
   ]
  },
  {
   "cell_type": "code",
   "execution_count": 20,
   "metadata": {},
   "outputs": [
    {
     "name": "stdout",
     "output_type": "stream",
     "text": [
      "YoonKimCnn(\n",
      "  (embedding): Embedding(10000, 300)\n",
      "  (conv): ModuleList(\n",
      "    (0): Conv2d(1, 4, kernel_size=(3, 300), stride=(1, 1))\n",
      "    (1): Conv2d(1, 4, kernel_size=(4, 300), stride=(1, 1))\n",
      "    (2): Conv2d(1, 4, kernel_size=(5, 300), stride=(1, 1))\n",
      "  )\n",
      "  (dropout): Dropout(p=0.5)\n",
      "  (fc1): Linear(in_features=12, out_features=1, bias=True)\n",
      ")\n"
     ]
    }
   ],
   "source": [
    "print(ykcnn)"
   ]
  },
  {
   "cell_type": "code",
   "execution_count": 21,
   "metadata": {},
   "outputs": [
    {
     "name": "stdout",
     "output_type": "stream",
     "text": [
      "FastText(\n",
      "  (encoder): Embedding(2000, 512)\n",
      "  (content_fc): Sequential(\n",
      "    (0): Linear(in_features=512, out_features=2000, bias=True)\n",
      "    (1): BatchNorm1d(2000, eps=1e-05, momentum=0.1, affine=True, track_running_stats=True)\n",
      "    (2): ReLU(inplace)\n",
      "    (3): Linear(in_features=2000, out_features=4, bias=True)\n",
      "  )\n",
      ")\n"
     ]
    }
   ],
   "source": [
    "print(ftclf)"
   ]
  },
  {
   "cell_type": "code",
   "execution_count": 22,
   "metadata": {},
   "outputs": [
    {
     "ename": "TypeError",
     "evalue": "fetch_dataset() missing 3 required positional arguments: 'name', 'url', and 'dest'",
     "output_type": "error",
     "traceback": [
      "\u001b[0;31m---------------------------------------------------------------------------\u001b[0m",
      "\u001b[0;31mTypeError\u001b[0m                                 Traceback (most recent call last)",
      "\u001b[0;32m<ipython-input-22-ff4093728690>\u001b[0m in \u001b[0;36m<module>\u001b[0;34m()\u001b[0m\n\u001b[0;32m----> 1\u001b[0;31m \u001b[0mfetch_dataset\u001b[0m\u001b[0;34m(\u001b[0m\u001b[0;34m)\u001b[0m\u001b[0;34m\u001b[0m\u001b[0m\n\u001b[0m",
      "\u001b[0;31mTypeError\u001b[0m: fetch_dataset() missing 3 required positional arguments: 'name', 'url', and 'dest'"
     ]
    }
   ],
   "source": [
    "fetch_dataset()"
   ]
  },
  {
   "cell_type": "code",
   "execution_count": null,
   "metadata": {},
   "outputs": [],
   "source": []
  },
  {
   "cell_type": "code",
   "execution_count": null,
   "metadata": {},
   "outputs": [],
   "source": []
  },
  {
   "cell_type": "code",
   "execution_count": null,
   "metadata": {},
   "outputs": [],
   "source": []
  },
  {
   "cell_type": "code",
   "execution_count": null,
   "metadata": {},
   "outputs": [],
   "source": []
  },
  {
   "cell_type": "code",
   "execution_count": null,
   "metadata": {},
   "outputs": [],
   "source": []
  },
  {
   "cell_type": "code",
   "execution_count": null,
   "metadata": {},
   "outputs": [],
   "source": []
  }
 ],
 "metadata": {
  "kernelspec": {
   "display_name": "Python 3",
   "language": "python",
   "name": "python3"
  },
  "language_info": {
   "codemirror_mode": {
    "name": "ipython",
    "version": 3
   },
   "file_extension": ".py",
   "mimetype": "text/x-python",
   "name": "python",
   "nbconvert_exporter": "python",
   "pygments_lexer": "ipython3",
   "version": "3.6.6"
  }
 },
 "nbformat": 4,
 "nbformat_minor": 2
}
