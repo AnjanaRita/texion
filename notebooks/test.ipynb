{
 "cells": [
  {
   "cell_type": "code",
   "execution_count": 28,
   "metadata": {},
   "outputs": [],
   "source": [
    "from sklearn.svm import SVC\n",
    "from sklearn.neural_network import MLPClassifier\n",
    "from sklearn.gaussian_process import GaussianProcessClassifier\n",
    "from sklearn.ensemble import RandomForestClassifier, AdaBoostClassifier, ExtraTreesClassifier \n",
    "from sklearn.ensemble import GradientBoostingClassifier, VotingClassifier\n",
    "from sklearn.naive_bayes import MultinomialNB, GaussianNB\n",
    "from sklearn.discriminant_analysis import QuadraticDiscriminantAnalysis\n",
    "\n",
    "import warnings\n",
    "warnings.simplefilter(\"ignore\")"
   ]
  },
  {
   "cell_type": "code",
   "execution_count": 55,
   "metadata": {},
   "outputs": [],
   "source": [
    "class Sklearn:\n",
    "    \"\"\"Base Sklearn classifier\"\"\"\n",
    "    options = {'RF': RandomForestClassifier, 'MNB': MultinomialNB,\n",
    "               'GNB': GaussianNB, 'SVC': SVC,\n",
    "               'MLP': MLPClassifier, 'AdaBoost': AdaBoostClassifier,\n",
    "               'QDA': QuadraticDiscriminantAnalysis, 'GPC': GaussianProcessClassifier,\n",
    "               'ET': ExtraTreesClassifier}\n",
    "    \n",
    "    def __new__(cls, name, params=None):\n",
    "        if name not in options.keys(): \n",
    "            raise NameError(f\"please select one of these as the name: {[x for x in options.keys()]}\")\n",
    "        if params:\n",
    "            clf = options.get(name)(**params)\n",
    "            print(f\"\"\"classification model configured to use {clf.__class__.__name__} algorithm with parameters:\\n{params}\"\"\")\n",
    "        else:\n",
    "            clf = options.get(name)()\n",
    "            print(f\"\"\"classification model configured to use {clf.__class__.__name__} algorithm.\\nnote: running with default configuration\"\"\")\n",
    "        return clf"
   ]
  },
  {
   "cell_type": "code",
   "execution_count": 57,
   "metadata": {},
   "outputs": [
    {
     "name": "stdout",
     "output_type": "stream",
     "text": [
      "classification model configured to use RandomForestClassifier algorithm.\n",
      "note: running with default configuration\n"
     ]
    }
   ],
   "source": [
    "clf = Sklearn(\"RF\")"
   ]
  },
  {
   "cell_type": "code",
   "execution_count": null,
   "metadata": {},
   "outputs": [],
   "source": []
  },
  {
   "cell_type": "code",
   "execution_count": null,
   "metadata": {},
   "outputs": [],
   "source": []
  }
 ],
 "metadata": {
  "kernelspec": {
   "display_name": "Python 3",
   "language": "python",
   "name": "python3"
  },
  "language_info": {
   "codemirror_mode": {
    "name": "ipython",
    "version": 3
   },
   "file_extension": ".py",
   "mimetype": "text/x-python",
   "name": "python",
   "nbconvert_exporter": "python",
   "pygments_lexer": "ipython3",
   "version": "3.6.6"
  }
 },
 "nbformat": 4,
 "nbformat_minor": 2
}
